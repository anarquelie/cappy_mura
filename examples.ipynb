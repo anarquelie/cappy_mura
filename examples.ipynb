{
 "cells": [
  {
   "cell_type": "code",
   "execution_count": 2,
   "id": "addressed-workplace",
   "metadata": {
    "scrolled": true
   },
   "outputs": [
    {
     "name": "stdout",
     "output_type": "stream",
     "text": [
      "Modified Uniformly Redundant Array\n",
      "p: 5\n",
      "multiplier: 2\n"
     ]
    }
   ],
   "source": [
    "mura = mura(p=5, m=2)"
   ]
  },
  {
   "cell_type": "code",
   "execution_count": 3,
   "id": "attractive-interval",
   "metadata": {},
   "outputs": [
    {
     "data": {
      "image/png": "[encoded data removed]",
      "text/plain": [
       "<Figure size 432x288 with 1 Axes>"
      ]
     },
     "metadata": {
      "needs_background": "light"
     },
     "output_type": "display_data"
    }
   ],
   "source": [
    "mura.show()"
   ]
  },
  {
   "cell_type": "code",
   "execution_count": 4,
   "id": "specific-tiger",
   "metadata": {
    "scrolled": true
   },
   "outputs": [
    {
     "data": {
      "text/plain": [
       "array([[1., 0., 0., 1., 1., 1., 0., 0., 1.],\n",
       "       [0., 1., 1., 0., 1., 0., 1., 1., 0.],\n",
       "       [0., 1., 1., 0., 1., 0., 1., 1., 0.],\n",
       "       [1., 0., 0., 1., 1., 1., 0., 0., 1.],\n",
       "       [0., 0., 0., 0., 0., 0., 0., 0., 0.],\n",
       "       [1., 0., 0., 1., 1., 1., 0., 0., 1.],\n",
       "       [0., 1., 1., 0., 1., 0., 1., 1., 0.],\n",
       "       [0., 1., 1., 0., 1., 0., 1., 1., 0.],\n",
       "       [1., 0., 0., 1., 1., 1., 0., 0., 1.]])"
      ]
     },
     "execution_count": 4,
     "metadata": {},
     "output_type": "execute_result"
    }
   ],
   "source": [
    "mura.get_pattern()"
   ]
  },
  {
   "cell_type": "code",
   "execution_count": null,
   "id": "capital-petite",
   "metadata": {},
   "outputs": [],
   "source": []
  }
 ],
 "metadata": {
  "kernelspec": {
   "display_name": "Python 3",
   "language": "python",
   "name": "python3"
  },
  "language_info": {
   "codemirror_mode": {
    "name": "ipython",
    "version": 3
   },
   "file_extension": ".py",
   "mimetype": "text/x-python",
   "name": "python",
   "nbconvert_exporter": "python",
   "pygments_lexer": "ipython3",
   "version": "3.9.1"
  }
 },
 "nbformat": 4,
 "nbformat_minor": 5
}
