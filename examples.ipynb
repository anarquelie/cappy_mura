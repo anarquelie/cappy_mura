{
 "cells": [
  {
   "cell_type": "code",
   "execution_count": 1,
   "id": "focused-values",
   "metadata": {},
   "outputs": [],
   "source": [
    "# %load cappy_mura.py\n",
    "import numpy as np\n",
    "import matplotlib.pyplot as plt\n",
    "import pyprimes\n",
    "import random\n",
    "from sympy import isprime  # pyprimes doesn't have isprime method, or does it?\n",
    "\n",
    "class mask():\n",
    "    \n",
    "    def __init__(self):\n",
    "        A_ij = None\n",
    "    \n",
    "    def show(self, inverse=False):\n",
    "        if inverse:\n",
    "            plt.imshow(self.A_ij, cmap=\"binary_r\")\n",
    "        else:\n",
    "            plt.imshow(self.A_ij, cmap=\"binary\")\n",
    "        plt.axis('off')\n",
    "        plt.show()\n",
    "\n",
    "    def get_pattern(self, inverse=False):\n",
    "        if inverse:\n",
    "            return 1-self.A_ij\n",
    "        else:\n",
    "            return self.A_ij\n",
    "\t\t\t\n",
    "class ura(mask):\n",
    "    \n",
    "    def __init__(self, rank=4, mult=2, quiet=False):\n",
    "        self.rank = rank\n",
    "        self.mult = mult\n",
    "        \n",
    "        # get r, s\n",
    "        r, s = self.__get_prime_pairs(self.rank)\n",
    "        self.r = r\n",
    "        self.s = s\n",
    "        \n",
    "        # generate C_r(I)\n",
    "        C_r_I = np.zeros(r) - 1\n",
    "        C_s_J = np.zeros(s) - 1\n",
    "        for x in range(1, r):\n",
    "            C_r_I[x**2 % r] = 1\n",
    "        for y in range(1, s):\n",
    "            C_s_J[y**2 % s] = 1\n",
    "\n",
    "        # generate A_IJ\n",
    "        A_IJ = np.zeros([r,s])\n",
    "        for I in range(r):\n",
    "            for J in range(s):\n",
    "                if I == 0:\n",
    "                    A_IJ[I,J] = 0\n",
    "                elif J == 0:\n",
    "                    A_IJ[I,J] = 1\n",
    "                elif C_r_I[I] * C_s_J[J] == 1:\n",
    "                    A_IJ[I,J] = 1\n",
    "\n",
    "        # generate A_ij\n",
    "        m = self.mult\n",
    "        A_ij = np.zeros([m*r,m*s])\n",
    "        for i in range(m*r):\n",
    "            for j in range(m*s):\n",
    "                A_ij[i,j] = A_IJ[i%r,j%s]\n",
    "        A_ij = np.roll(A_ij, int((r+1)/2), axis=0)\n",
    "        A_ij = np.roll(A_ij, int((s+1)/2), axis=1)\n",
    "        self.A_ij = A_ij\n",
    "        \n",
    "        if not quiet:\n",
    "            self.info()\n",
    "        \n",
    "    def info(self):\n",
    "        print(\"Uniformly Redundant Array\")\n",
    "        print(\"r, s: %i, %i (rank %i)\" % (self.r, self.s, self.rank))\n",
    "        print(\"multiplier: %i\" % self.mult)\n",
    "        \n",
    "    def __get_prime_pairs(self, rank):\n",
    "        pit = pyprimes.primes()\n",
    "\n",
    "        # intialize\n",
    "        p1 = next(pit)\n",
    "        this_rank = -1\n",
    "\n",
    "        # find primes\n",
    "        while True:\n",
    "            p2 = next(pit)\n",
    "            if (p2-p1) == 2:\n",
    "                this_rank += 1\n",
    "            else:\n",
    "                p1 = p2\n",
    "            if this_rank == rank:\n",
    "                break\n",
    "\n",
    "        return p1, p2\n",
    "\t\t\n",
    "class rand_array(mask):\n",
    "    \n",
    "    def __init__(self, r=10, s=10, fill=0.5, quiet=False):\n",
    "        self.r = r\n",
    "        self.s = s\n",
    "        self.fill = fill\n",
    "        \n",
    "        # randomly fill\n",
    "        A_ij = np.zeros([r, s])\n",
    "        for i in range(r):\n",
    "            for j in range(s):\n",
    "                if random.random() < self.fill:\n",
    "                    A_ij[i,j] = 1\n",
    "        self.A_ij = A_ij\n",
    "        self.actual_fill = np.sum(A_ij)/(self.r*self.s)\n",
    "        \n",
    "        if not quiet:\n",
    "            self.info()\n",
    "        \n",
    "    def info(self):\n",
    "        print(\"Random Array\")\n",
    "        print(\"r, s: %i, %i\" % (self.r, self.s))\n",
    "        print(\"desired fill factor: %.2f\" % self.fill)\n",
    "        print(\"actuall fill factor: %.2f\" % self.actual_fill)\n",
    "\t\t\n",
    "class mura(mask):\n",
    "    \n",
    "    def __init__(self, p, m, quiet=False):\n",
    "        \n",
    "        self.p = p\n",
    "        self.m = m\n",
    "        \n",
    "        # generate C(I)\n",
    "        C_I = np.zeros(p)-1\n",
    "        C_J = np.zeros(p)-1\n",
    "        for x in range(1, p):\n",
    "            C_I[x**2 % p] = 1\n",
    "        for y in range(1, p):\n",
    "            C_J[y**2 % p] = 1\n",
    "            \n",
    "        # generate A_IJ\n",
    "        A_IJ = np.zeros([p,p])\n",
    "        for I in range(p):\n",
    "            for J in range(p):\n",
    "                if I == 0:\n",
    "                    A_IJ[I,J] = 0\n",
    "                elif J == 0:\n",
    "                    A_IJ[I,J] = 1\n",
    "                elif C_I[I] * C_J[J] == 1:\n",
    "                    A_IJ[I,J] = 1\n",
    "\n",
    "        # generate A_ij\n",
    "        A_ij = np.zeros([m*p,m*p])\n",
    "        for i in range(m*p):\n",
    "            for j in range(m*p):\n",
    "                A_ij[i,j] = A_IJ[i%p,j%p]\n",
    "                \n",
    "        A_ij = np.delete(A_ij,0,1)  # deletes first column\n",
    "        A_ij = np.delete(A_ij,0,0)  # deletes first row\n",
    "        \n",
    "        self.A_ij = A_ij\n",
    "        \n",
    "        if not quiet:\n",
    "            self.info()\n",
    "            \n",
    "    def info(self):\n",
    "        print(\"Modified Uniformly Redundant Array\")\n",
    "        print(\"p: %i\" % self.p)\n",
    "        print(\"multiplier: %i\" % self.m)\n",
    "        \n",
    "#  should find primes, not working yet\n",
    "#     def __get_prime(self, rank):\n",
    "#         m = 1\n",
    "#         this_rank = -1\n",
    "#         while True:\n",
    "#             L = 4*m + 1\n",
    "#             if sympy.isprime(L):\n",
    "#                 this_rank += 1\n",
    "#             if this_rank == rank:\n",
    "#                 break\n",
    "#             m += 1\n",
    "#         return L"
   ]
  },
  {
   "cell_type": "code",
   "execution_count": 2,
   "id": "addressed-workplace",
   "metadata": {
    "scrolled": true
   },
   "outputs": [
    {
     "name": "stdout",
     "output_type": "stream",
     "text": [
      "Modified Uniformly Redundant Array\n",
      "p: 5\n",
      "multiplier: 2\n"
     ]
    }
   ],
   "source": [
    "mura = mura(p=5, m=2)"
   ]
  },
  {
   "cell_type": "code",
   "execution_count": 3,
   "id": "attractive-interval",
   "metadata": {},
   "outputs": [
    {
     "data": {
      "image/png": "[encoded data removed]",
      "text/plain": [
       "<Figure size 432x288 with 1 Axes>"
      ]
     },
     "metadata": {
      "needs_background": "light"
     },
     "output_type": "display_data"
    }
   ],
   "source": [
    "mura.show()"
   ]
  },
  {
   "cell_type": "code",
   "execution_count": 4,
   "id": "specific-tiger",
   "metadata": {
    "scrolled": true
   },
   "outputs": [
    {
     "data": {
      "text/plain": [
       "array([[1., 0., 0., 1., 1., 1., 0., 0., 1.],\n",
       "       [0., 1., 1., 0., 1., 0., 1., 1., 0.],\n",
       "       [0., 1., 1., 0., 1., 0., 1., 1., 0.],\n",
       "       [1., 0., 0., 1., 1., 1., 0., 0., 1.],\n",
       "       [0., 0., 0., 0., 0., 0., 0., 0., 0.],\n",
       "       [1., 0., 0., 1., 1., 1., 0., 0., 1.],\n",
       "       [0., 1., 1., 0., 1., 0., 1., 1., 0.],\n",
       "       [0., 1., 1., 0., 1., 0., 1., 1., 0.],\n",
       "       [1., 0., 0., 1., 1., 1., 0., 0., 1.]])"
      ]
     },
     "execution_count": 4,
     "metadata": {},
     "output_type": "execute_result"
    }
   ],
   "source": [
    "mura.get_pattern()"
   ]
  },
  {
   "cell_type": "code",
   "execution_count": null,
   "id": "expected-appliance",
   "metadata": {},
   "outputs": [],
   "source": []
  }
 ],
 "metadata": {
  "kernelspec": {
   "display_name": "Python 3",
   "language": "python",
   "name": "python3"
  },
  "language_info": {
   "codemirror_mode": {
    "name": "ipython",
    "version": 3
   },
   "file_extension": ".py",
   "mimetype": "text/x-python",
   "name": "python",
   "nbconvert_exporter": "python",
   "pygments_lexer": "ipython3",
   "version": "3.9.1"
  }
 },
 "nbformat": 4,
 "nbformat_minor": 5
}
